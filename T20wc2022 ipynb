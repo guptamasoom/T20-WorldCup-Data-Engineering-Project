{
 "cells": [
  {
   "cell_type": "code",
   "execution_count": 0,
   "metadata": {
    "application/vnd.databricks.v1+cell": {
     "cellMetadata": {
      "byteLimit": 2048000,
      "rowLimit": 10000
     },
     "inputWidgets": {},
     "nuid": "e4684a9f-d5b0-4e80-86d7-ac0fa0edd835",
     "showTitle": false,
     "title": ""
    }
   },
   "outputs": [],
   "source": [
    "from pyspark.sql import SparkSession\n"
   ]
  },
  {
   "cell_type": "code",
   "execution_count": 0,
   "metadata": {
    "application/vnd.databricks.v1+cell": {
     "cellMetadata": {
      "byteLimit": 2048000,
      "rowLimit": 10000
     },
     "inputWidgets": {},
     "nuid": "188c1a58-8fd1-4ec4-b87c-f026ecb159f4",
     "showTitle": false,
     "title": ""
    }
   },
   "outputs": [],
   "source": [
    "#create session\n",
    "spark = SparkSession.builder.appName(\"T20 Data Analysis\").getOrCreate()"
   ]
  },
  {
   "cell_type": "code",
   "execution_count": 0,
   "metadata": {
    "application/vnd.databricks.v1+cell": {
     "cellMetadata": {
      "byteLimit": 2048000,
      "rowLimit": 10000
     },
     "inputWidgets": {},
     "nuid": "ae5dc787-ef13-4855-997f-bd136a25ef20",
     "showTitle": false,
     "title": ""
    }
   },
   "outputs": [
    {
     "output_type": "display_data",
     "data": {
      "text/html": [
       "\n",
       "            <div>\n",
       "                <p><b>SparkSession - hive</b></p>\n",
       "                \n",
       "        <div>\n",
       "            <p><b>SparkContext</b></p>\n",
       "\n",
       "            <p><a href=\"/?o=858342303617524#setting/sparkui/0812-110006-a3oaepp/driver-5425970222463782606\">Spark UI</a></p>\n",
       "\n",
       "            <dl>\n",
       "              <dt>Version</dt>\n",
       "                <dd><code>v3.3.2</code></dd>\n",
       "              <dt>Master</dt>\n",
       "                <dd><code>local[8]</code></dd>\n",
       "              <dt>AppName</dt>\n",
       "                <dd><code>Databricks Shell</code></dd>\n",
       "            </dl>\n",
       "        </div>\n",
       "        \n",
       "            </div>\n",
       "        "
      ]
     },
     "metadata": {
      "application/vnd.databricks.v1+output": {
       "addedWidgets": {},
       "arguments": {},
       "data": "\n            <div>\n                <p><b>SparkSession - hive</b></p>\n                \n        <div>\n            <p><b>SparkContext</b></p>\n\n            <p><a href=\"/?o=858342303617524#setting/sparkui/0812-110006-a3oaepp/driver-5425970222463782606\">Spark UI</a></p>\n\n            <dl>\n              <dt>Version</dt>\n                <dd><code>v3.3.2</code></dd>\n              <dt>Master</dt>\n                <dd><code>local[8]</code></dd>\n              <dt>AppName</dt>\n                <dd><code>Databricks Shell</code></dd>\n            </dl>\n        </div>\n        \n            </div>\n        ",
       "datasetInfos": [],
       "metadata": {},
       "removedWidgets": [],
       "textData": null,
       "type": "htmlSandbox"
      }
     },
     "output_type": "display_data"
    }
   ],
   "source": [
    "spark"
   ]
  },
  {
   "cell_type": "code",
   "execution_count": 0,
   "metadata": {
    "application/vnd.databricks.v1+cell": {
     "cellMetadata": {
      "byteLimit": 2048000,
      "rowLimit": 10000
     },
     "inputWidgets": {},
     "nuid": "e954b177-21ae-4969-83e1-bdff9fd725b6",
     "showTitle": false,
     "title": ""
    }
   },
   "outputs": [],
   "source": [
    "fact_bating = spark.read.format(\"csv\").option(\"header\", \"true\").load('s3://t20worldcup/fact_bating/fact_bating.csv')\n"
   ]
  },
  {
   "cell_type": "code",
   "execution_count": 0,
   "metadata": {
    "application/vnd.databricks.v1+cell": {
     "cellMetadata": {
      "byteLimit": 2048000,
      "rowLimit": 10000
     },
     "inputWidgets": {},
     "nuid": "197d52c0-ebbf-4b8a-8b75-1b1720066fcc",
     "showTitle": false,
     "title": ""
    }
   },
   "outputs": [],
   "source": [
    "fact_bating = fact_bating.withColumnRenamed(\"out/not_out\", \"Innings\")\n"
   ]
  },
  {
   "cell_type": "code",
   "execution_count": 0,
   "metadata": {
    "application/vnd.databricks.v1+cell": {
     "cellMetadata": {
      "byteLimit": 2048000,
      "rowLimit": 10000
     },
     "inputWidgets": {},
     "nuid": "06d0161f-9f94-4c99-af0d-f04eda39e9b7",
     "showTitle": false,
     "title": ""
    }
   },
   "outputs": [
    {
     "output_type": "stream",
     "name": "stdout",
     "output_type": "stream",
     "text": [
      "+--------------------+-----------+----------+--------------------+----+-----+---+---+------+-------+-----------+\n|               match|teamInnings|battingPos|         batsmanName|runs|balls| 4s| 6s|    SR|Innings|   match_id|\n+--------------------+-----------+----------+--------------------+----+-----+---+---+------+-------+-----------+\n|Namibia Vs Sri Lanka|    Namibia|         1|  Michael van Lingen|   3|    6|  0|  0| 50.00|    out|T20I # 1823|\n|Namibia Vs Sri Lanka|    Namibia|         2|       Divan la Cock|   9|    9|  1|  0|100.00|    out|T20I # 1823|\n|Namibia Vs Sri Lanka|    Namibia|         3|Jan Nicol Loftie-...|  20|   12|  1|  2|166.66|    out|T20I # 1823|\n|Namibia Vs Sri Lanka|    Namibia|         4|       Stephan Baard|  26|   24|  2|  0|108.33|    out|T20I # 1823|\n|Namibia Vs Sri Lanka|    Namibia|         5|  Gerhard Erasmus(c)|  20|   24|  0|  0| 83.33|    out|T20I # 1823|\n|Namibia Vs Sri Lanka|    Namibia|         6|        Jan Frylinck|  44|   28|  4|  0|157.14|    out|T20I # 1823|\n|Namibia Vs Sri Lanka|    Namibia|         7|         David Wiese|   0|    1|  0|  0|  0.00|    out|T20I # 1823|\n|Namibia Vs Sri Lanka|    Namibia|         8|             JJ Smit|  31|   16|  2|  2|193.75|not_out|T20I # 1823|\n|Namibia Vs Sri Lanka|  Sri Lanka|         1|     Pathum Nissanka|   9|   10|  1|  0| 90.00|    out|T20I # 1823|\n|Namibia Vs Sri Lanka|  Sri Lanka|         2|        Kusal Mendis|   6|    6|  0|  0|100.00|    out|T20I # 1823|\n|Namibia Vs Sri Lanka|  Sri Lanka|         3| Dhananjaya de Silva|  12|   11|  1|  0|109.09|    out|T20I # 1823|\n|Namibia Vs Sri Lanka|  Sri Lanka|         4|Danushka Gunathilaka|   0|    1|  0|  0|  0.00|    out|T20I # 1823|\n|Namibia Vs Sri Lanka|  Sri Lanka|         5|   Bhanuka Rajapaksa|  20|   21|  2|  0| 95.23|    out|T20I # 1823|\n|Namibia Vs Sri Lanka|  Sri Lanka|         6|    Dasun Shanaka(c)|  29|   23|  2|  1|126.08|    out|T20I # 1823|\n|Namibia Vs Sri Lanka|  Sri Lanka|         7|Wanindu Hasaranga...|   4|    8|  0|  0| 50.00|    out|T20I # 1823|\n|Namibia Vs Sri Lanka|  Sri Lanka|         8| Chamika Karunaratne|   5|    8|  0|  0| 62.50|    out|T20I # 1823|\n|Namibia Vs Sri Lanka|  Sri Lanka|         9|     Pramod Madushan|   0|    0|  0|  0|     -|    out|T20I # 1823|\n|Namibia Vs Sri Lanka|  Sri Lanka|        10| Dushmantha Chameera|   8|   15|  0|  0| 53.33|    out|T20I # 1823|\n|Namibia Vs Sri Lanka|  Sri Lanka|        11|  Maheesh Theekshana|  11|   11|  0|  1|100.00|not_out|T20I # 1823|\n|U.A.E. Vs Netherl...|     U.A.E.|         1|         Chirag Suri|  12|   20|  1|  0| 60.00|    out|T20I # 1825|\n+--------------------+-----------+----------+--------------------+----+-----+---+---+------+-------+-----------+\nonly showing top 20 rows\n\n"
     ]
    }
   ],
   "source": [
    "fact_bating.show()"
   ]
  },
  {
   "cell_type": "code",
   "execution_count": 0,
   "metadata": {
    "application/vnd.databricks.v1+cell": {
     "cellMetadata": {
      "byteLimit": 2048000,
      "rowLimit": 10000
     },
     "inputWidgets": {},
     "nuid": "9cacfedf-2244-4f84-acbf-f8bf6f4309d4",
     "showTitle": false,
     "title": ""
    }
   },
   "outputs": [],
   "source": [
    "fact_bowling = spark.read.format(\"csv\").option(\"header\", \"true\").load('s3://t20worldcup/fact_bowling/fact_bowling_summary.csv')\n"
   ]
  },
  {
   "cell_type": "code",
   "execution_count": 0,
   "metadata": {
    "application/vnd.databricks.v1+cell": {
     "cellMetadata": {
      "byteLimit": 2048000,
      "rowLimit": 10000
     },
     "inputWidgets": {},
     "nuid": "6ebab4bf-6345-4d38-b6b1-02b418ac19e1",
     "showTitle": false,
     "title": ""
    }
   },
   "outputs": [
    {
     "output_type": "stream",
     "name": "stdout",
     "output_type": "stream",
     "text": [
      "+--------------------+-----------+--------------------+-----+------+----+-------+-------+---+---+---+-----+-------+-----------+-------+-----------+\n|               match|bowlingTeam|          bowlerName|overs|maiden|runs|wickets|economy| 0s| 4s| 6s|wides|noBalls|   match_id|subover|bowlsbowled|\n+--------------------+-----------+--------------------+-----+------+----+-------+-------+---+---+---+-----+-------+-----------+-------+-----------+\n|Namibia Vs Sri Lanka|  Sri Lanka|  Maheesh Theekshana|    4|     0|  23|      1|   5.75|  7|  0|  0|    2|      0|T20I # 1823|      0|         24|\n|Namibia Vs Sri Lanka|  Sri Lanka| Dushmantha Chameera|    4|     0|  39|      1|   9.75|  6|  3|  1|    2|      0|T20I # 1823|      0|         24|\n|Namibia Vs Sri Lanka|  Sri Lanka|     Pramod Madushan|    4|     0|  37|      2|   9.25|  6|  3|  1|    0|      0|T20I # 1823|      0|         24|\n|Namibia Vs Sri Lanka|  Sri Lanka| Chamika Karunaratne|    4|     0|  36|      1|      9|  7|  3|  1|    1|      0|T20I # 1823|      0|         24|\n|Namibia Vs Sri Lanka|  Sri Lanka|Wanindu Hasaranga...|    4|     0|  27|      1|   6.75|  8|  1|  1|    0|      0|T20I # 1823|      0|         24|\n|Namibia Vs Sri Lanka|    Namibia|     Gerhard Erasmus|    1|     0|   8|      0|      8|  1|  1|  0|    0|      0|T20I # 1823|      0|          6|\n|Namibia Vs Sri Lanka|    Namibia|         David Wiese|    4|     0|  16|      2|      4| 13|  1|  0|    0|      0|T20I # 1823|      0|         24|\n|Namibia Vs Sri Lanka|    Namibia|     Bernard Scholtz|    4|     0|  18|      2|    4.5| 10|  1|  0|    0|      0|T20I # 1823|      0|         24|\n|Namibia Vs Sri Lanka|    Namibia|        Ben Shikongo|    3|     1|  22|      2|   7.33|  6|  3|  0|    0|      0|T20I # 1823|      0|         18|\n|Namibia Vs Sri Lanka|    Namibia|             JJ Smit|    3|     0|  16|      1|   5.33|  7|  0|  0|    1|      0|T20I # 1823|      0|         18|\n|Namibia Vs Sri Lanka|    Namibia|        Jan Frylinck|    4|     0|  26|      2|    6.5| 10|  0|  2|    1|      0|T20I # 1823|      0|         24|\n|U.A.E. Vs Netherl...|Netherlands|       Fred Klaassen|    4|     0|  13|      2|   3.25| 18|  0|  0|    3|      0|T20I # 1825|      0|         24|\n|U.A.E. Vs Netherl...|Netherlands|         Tim Pringle|    4|     0|  13|      1|   3.25| 11|  0|  0|    0|      0|T20I # 1825|      0|         24|\n|U.A.E. Vs Netherl...|Netherlands|      Logan van Beek|    2|     0|  19|      0|    9.5|  5|  0|  2|    1|      0|T20I # 1825|      0|         12|\n|U.A.E. Vs Netherl...|Netherlands|        Bas de Leede|    3|     0|  19|      3|   6.33|  9|  2|  0|    2|      0|T20I # 1825|      0|         18|\n|U.A.E. Vs Netherl...|Netherlands|   Paul van Meekeren|    4|     0|  21|      0|   5.25| 11|  1|  0|    0|      0|T20I # 1825|      0|         24|\n|U.A.E. Vs Netherl...|Netherlands|Roelof van der Merwe|    3|     0|  19|      1|   6.33|  7|  0|  1|    0|      0|T20I # 1825|      0|         18|\n|U.A.E. Vs Netherl...|     U.A.E.|     Junaid Siddique|    4|     0|  24|      3|      6| 10|  2|  0|    1|      0|T20I # 1825|      0|         24|\n|U.A.E. Vs Netherl...|     U.A.E.|        Basil Hameed|    1|     0|   7|      1|      7|  4|  0|  1|    0|      0|T20I # 1825|      0|          6|\n|U.A.E. Vs Netherl...|     U.A.E.|    Aayan Afzal Khan|    3|     0|  15|      1|      5|  8|  1|  0|    0|      0|T20I # 1825|      0|         18|\n+--------------------+-----------+--------------------+-----+------+----+-------+-------+---+---+---+-----+-------+-----------+-------+-----------+\nonly showing top 20 rows\n\n"
     ]
    }
   ],
   "source": [
    "fact_bowling.show()"
   ]
  },
  {
   "cell_type": "code",
   "execution_count": 0,
   "metadata": {
    "application/vnd.databricks.v1+cell": {
     "cellMetadata": {
      "byteLimit": 2048000,
      "rowLimit": 10000
     },
     "inputWidgets": {},
     "nuid": "4c83bc6d-b513-4fb7-a3cc-141a712a941d",
     "showTitle": false,
     "title": ""
    }
   },
   "outputs": [],
   "source": [
    "match_summary = spark.read.format(\"csv\").option(\"header\", \"true\").load('s3://t20worldcup/match_summary/match_summary.csv')\n"
   ]
  },
  {
   "cell_type": "code",
   "execution_count": 0,
   "metadata": {
    "application/vnd.databricks.v1+cell": {
     "cellMetadata": {
      "byteLimit": 2048000,
      "rowLimit": 10000
     },
     "inputWidgets": {},
     "nuid": "a168f51c-d412-4acf-ab50-f116bbd3f1ae",
     "showTitle": false,
     "title": ""
    }
   },
   "outputs": [
    {
     "output_type": "stream",
     "name": "stdout",
     "output_type": "stream",
     "text": [
      "+------------+-----------+-----------+---------+---------+------------+-----------+\n|       team1|      team2|     winner|   margin|   ground|   matchDate|   match_id|\n+------------+-----------+-----------+---------+---------+------------+-----------+\n|     Namibia|  Sri Lanka|    Namibia|  55 runs|  Geelong|Oct 16, 2022|T20I # 1823|\n| Netherlands|     U.A.E.|Netherlands|3 wickets|  Geelong|Oct 16, 2022|T20I # 1825|\n|    Scotland|West Indies|   Scotland|  42 runs|   Hobart|Oct 17, 2022|T20I # 1826|\n|     Ireland|   Zimbabwe|   Zimbabwe|  31 runs|   Hobart|Oct 17, 2022|T20I # 1828|\n|     Namibia|Netherlands|Netherlands|5 wickets|  Geelong|Oct 18, 2022|T20I # 1830|\n|   Sri Lanka|     U.A.E.|  Sri Lanka|  79 runs|  Geelong|Oct 18, 2022|T20I # 1832|\n|     Ireland|   Scotland|    Ireland|6 wickets|   Hobart|Oct 19, 2022|T20I # 1833|\n| West Indies|   Zimbabwe|West Indies|  31 runs|   Hobart|Oct 19, 2022|T20I # 1834|\n| Netherlands|  Sri Lanka|  Sri Lanka|  16 runs|  Geelong|Oct 20, 2022|T20I # 1835|\n|     Namibia|     U.A.E.|     U.A.E.|   7 runs|  Geelong|Oct 20, 2022|T20I # 1836|\n|     Ireland|West Indies|    Ireland|9 wickets|   Hobart|Oct 21, 2022|T20I # 1837|\n|    Scotland|   Zimbabwe|   Zimbabwe|5 wickets|   Hobart|Oct 21, 2022|T20I # 1838|\n|   Australia|New Zealand|New Zealand|  89 runs|   Sydney|Oct 22, 2022|T20I # 1839|\n| Afghanistan|    England|    England|5 wickets|    Perth|Oct 22, 2022|T20I # 1840|\n|     Ireland|  Sri Lanka|  Sri Lanka|9 wickets|   Hobart|Oct 23, 2022|T20I # 1841|\n|       India|   Pakistan|      India|4 wickets|Melbourne|Oct 23, 2022|T20I # 1842|\n|  Bangladesh|Netherlands| Bangladesh|   9 runs|   Hobart|Oct 24, 2022|T20I # 1843|\n|South Africa|   Zimbabwe|  no result|     null|   Hobart|Oct 24, 2022|T20I # 1844|\n|   Australia|  Sri Lanka|  Australia|7 wickets|    Perth|Oct 25, 2022|T20I # 1845|\n|     England|    Ireland|    Ireland|   5 runs|Melbourne|Oct 26, 2022|T20I # 1846|\n+------------+-----------+-----------+---------+---------+------------+-----------+\nonly showing top 20 rows\n\n"
     ]
    }
   ],
   "source": [
    "match_summary.show()"
   ]
  },
  {
   "cell_type": "code",
   "execution_count": 0,
   "metadata": {
    "application/vnd.databricks.v1+cell": {
     "cellMetadata": {
      "byteLimit": 2048000,
      "rowLimit": 10000
     },
     "inputWidgets": {},
     "nuid": "8ee4b170-5ab3-48f9-82ee-1f4ab9ac2c35",
     "showTitle": false,
     "title": ""
    }
   },
   "outputs": [],
   "source": [
    "players = spark.read.format(\"csv\").option(\"header\", \"true\").load('s3://t20worldcup/players/players.csv')\n"
   ]
  },
  {
   "cell_type": "code",
   "execution_count": 0,
   "metadata": {
    "application/vnd.databricks.v1+cell": {
     "cellMetadata": {
      "byteLimit": 2048000,
      "rowLimit": 10000
     },
     "inputWidgets": {},
     "nuid": "93a7704f-baa2-404c-880f-e6a7d8df8c4d",
     "showTitle": false,
     "title": ""
    }
   },
   "outputs": [
    {
     "output_type": "stream",
     "name": "stdout",
     "output_type": "stream",
     "text": [
      "+--------------------+----------+--------------------+--------------+--------------------+-------------------+--------------------+\n|                name|      team|               image|  battingStyle|        bowlingStyle|        playingRole|         description|\n+--------------------+----------+--------------------+--------------+--------------------+-------------------+--------------------+\n|Najmul Hossain Sh...|Bangladesh|                null| Left hand Bat|  Right arm Offbreak|   Top order Batter|Nazmul Hossain Sh...|\n|       Soumya Sarkar|Bangladesh|                null| Left hand Bat|Right arm Medium ...|Middle order Batter|A rarity among Ba...|\n|          Litton Das|Bangladesh|                null|Right hand Bat|                null|Wicketkeeper Batter|Liton Das is the ...|\n|  Shakib Al Hasan(c)|Bangladesh|                null| Left hand Bat|Slow Left arm Ort...|         Allrounder|When the annals o...|\n|        Afif Hossain|Bangladesh|                null| Left hand Bat|  Right arm Offbreak|         Allrounder|Bangladesh left-h...|\n|    Mosaddek Hossain|Bangladesh|                null|Right hand Bat|  Right arm Offbreak|Middle order Batter|Mosaddek Hossain,...|\n|         Nurul Hasan|Bangladesh|                null|Right hand Bat|                null|Wicketkeeper Batter|Nurul Hasan, who ...|\n|           Yasir Ali|Bangladesh|                null|Right hand Bat|  Right arm Offbreak|Middle order Batter|                null|\n|    Wessly Madhevere|  Zimbabwe|                null|Right hand Bat|  Right arm Offbreak|         Allrounder|                null|\n|     Craig Ervine(c)|  Zimbabwe|                null| Left hand Bat|  Right arm Offbreak|Middle order Batter|Few people in Zim...|\n|       Milton Shumba|  Zimbabwe|                null| Left hand Bat|Slow Left arm Ort...|   Top order Batter|                null|\n|       Sean Williams|  Zimbabwe|                null| Left hand Bat|Slow Left arm Ort...|Middle order Batter|Sean Williams is ...|\n|       Sikandar Raza|  Zimbabwe|https://img1.hsci...|Right hand Bat|  Right arm Offbreak| Batting Allrounder|Sikandar Raza's s...|\n|      Regis Chakabva|  Zimbabwe|                null|Right hand Bat|  Right arm Offbreak|Wicketkeeper Batter|A doughty wicketk...|\n|           Ryan Burl|  Zimbabwe|                null| Left hand Bat|            Legbreak|Middle order Batter|Ryan Burl liked p...|\n|          Brad Evans|  Zimbabwe|                null|Right hand Bat|      Right arm Fast|         Allrounder|                null|\n|     Richard Ngarava|  Zimbabwe|                null| Left hand Bat|Left arm Fast medium|             Bowler|                null|\n| Blessing Muzarabani|  Zimbabwe|                null|Right hand Bat|Right arm Fast me...|             Bowler|                null|\n|      Tendai Chatara|  Zimbabwe|https://img1.hsci...|Right hand Bat|Right arm Fast me...|             Bowler|The first thing o...|\n|        Taskin Ahmed|Bangladesh|                null| Left hand Bat|      Right arm Fast|             Bowler|Even before he wa...|\n+--------------------+----------+--------------------+--------------+--------------------+-------------------+--------------------+\nonly showing top 20 rows\n\n"
     ]
    }
   ],
   "source": [
    "players.show()"
   ]
  },
  {
   "cell_type": "markdown",
   "metadata": {
    "application/vnd.databricks.v1+cell": {
     "cellMetadata": {
      "byteLimit": 2048000,
      "rowLimit": 10000
     },
     "inputWidgets": {},
     "nuid": "2e28a3ce-d75e-4c58-ab0b-1858a4e31234",
     "showTitle": false,
     "title": ""
    }
   },
   "source": [
    "# Transformation\n"
   ]
  },
  {
   "cell_type": "code",
   "execution_count": 0,
   "metadata": {
    "application/vnd.databricks.v1+cell": {
     "cellMetadata": {
      "byteLimit": 2048000,
      "rowLimit": 10000
     },
     "inputWidgets": {},
     "nuid": "57b6a393-d7f8-4efe-8eff-77159d044e5b",
     "showTitle": false,
     "title": ""
    }
   },
   "outputs": [],
   "source": [
    "players.createOrReplaceTempView(\"players\")\n",
    "match_summary.createOrReplaceTempView(\"match_summary\")\n",
    "fact_bowling.createOrReplaceTempView(\"fact_bowling\")\n",
    "fact_bating.createOrReplaceTempView(\"fact_bating\")\n"
   ]
  },
  {
   "cell_type": "code",
   "execution_count": 0,
   "metadata": {
    "application/vnd.databricks.v1+cell": {
     "cellMetadata": {
      "byteLimit": 2048000,
      "rowLimit": 10000
     },
     "inputWidgets": {},
     "nuid": "14819b1c-bbea-4256-a47c-23f77e34e84d",
     "showTitle": false,
     "title": ""
    }
   },
   "outputs": [],
   "source": [
    "from pyspark.sql.functions import col, sum, count, when ,round \n",
    "\n"
   ]
  },
  {
   "cell_type": "code",
   "execution_count": 0,
   "metadata": {
    "application/vnd.databricks.v1+cell": {
     "cellMetadata": {
      "byteLimit": 2048000,
      "rowLimit": 10000
     },
     "inputWidgets": {},
     "nuid": "570f40ad-f1da-43e3-913e-95ec52d46c81",
     "showTitle": false,
     "title": ""
    }
   },
   "outputs": [
    {
     "output_type": "stream",
     "name": "stdout",
     "output_type": "stream",
     "text": [
      "+----------------+----------+---------+--------------+-----------+----------+-----------------------+---------------+---------------+----------+\n|     batsmanName|battingPos|Total_run|Innings_Batted|Total_balls|StrikeRate|total_innings_Dismissed|Avg_balls_Faced|Batting_Average|battingper|\n+----------------+----------+---------+--------------+-----------+----------+-----------------------+---------------+---------------+----------+\n|     Virat Kohli|         3|    296.0|             6|      217.0|     136.0|                      3|           36.0|           99.0|      50.0|\n|Suryakumar Yadav|         4|    239.0|             6|      126.0|     190.0|                      4|           21.0|           60.0|      66.0|\n+----------------+----------+---------+--------------+-----------+----------+-----------------------+---------------+---------------+----------+\nonly showing top 2 rows\n\n"
     ]
    }
   ],
   "source": [
    "openers = fact_bating.groupBy(\"batsmanName\", \"battingPos\").agg(\n",
    "    sum(col(\"runs\")).alias(\"Total_run\"),\n",
    "    count(\"match_id\").alias(\"Innings_Batted\"),\n",
    "    sum(\"balls\").alias(\"Total_balls\"),\n",
    "    round(sum(\"runs\") / sum(\"balls\") * 100).alias(\"StrikeRate\"),\n",
    "    count(when(col(\"Innings\") == \"out\", 1)).alias(\"total_innings_Dismissed\"),\n",
    "    round(sum(\"balls\") / count(\"match_id\")).alias(\"Avg_balls_Faced\"),\n",
    "    round(sum(col(\"runs\")) / count(when(col(\"Innings\") == \"out\", 1))).alias(\"Batting_Average\"),\n",
    "    round(((sum(\"4s\") * 4) + (sum(\"6s\") * 6)) / sum(col(\"runs\")) * 100).alias(\"battingper\"),\n",
    ").orderBy(col(\"Total_run\").desc())\n",
    "\n",
    "openers.show(2)\n"
   ]
  },
  {
   "cell_type": "code",
   "execution_count": 0,
   "metadata": {
    "application/vnd.databricks.v1+cell": {
     "cellMetadata": {
      "byteLimit": 2048000,
      "rowLimit": 10000
     },
     "collapsed": true,
     "inputWidgets": {},
     "nuid": "6f45aa8b-64bb-435c-9d97-087c10d6e9d3",
     "showTitle": false,
     "title": ""
    }
   },
   "outputs": [
    {
     "output_type": "stream",
     "name": "stdout",
     "output_type": "stream",
     "text": [
      "+--------------------+-----------+--------------------+-----+------+----+-------+-------+---+---+---+-----+-------+-----------+-------+-----------+\n|               match|bowlingTeam|          bowlerName|overs|maiden|runs|wickets|economy| 0s| 4s| 6s|wides|noBalls|   match_id|subover|bowlsbowled|\n+--------------------+-----------+--------------------+-----+------+----+-------+-------+---+---+---+-----+-------+-----------+-------+-----------+\n|Namibia Vs Sri Lanka|  Sri Lanka|  Maheesh Theekshana|    4|     0|  23|      1|   5.75|  7|  0|  0|    2|      0|T20I # 1823|      0|         24|\n|Namibia Vs Sri Lanka|  Sri Lanka| Dushmantha Chameera|    4|     0|  39|      1|   9.75|  6|  3|  1|    2|      0|T20I # 1823|      0|         24|\n|Namibia Vs Sri Lanka|  Sri Lanka|     Pramod Madushan|    4|     0|  37|      2|   9.25|  6|  3|  1|    0|      0|T20I # 1823|      0|         24|\n|Namibia Vs Sri Lanka|  Sri Lanka| Chamika Karunaratne|    4|     0|  36|      1|      9|  7|  3|  1|    1|      0|T20I # 1823|      0|         24|\n|Namibia Vs Sri Lanka|  Sri Lanka|Wanindu Hasaranga...|    4|     0|  27|      1|   6.75|  8|  1|  1|    0|      0|T20I # 1823|      0|         24|\n|Namibia Vs Sri Lanka|    Namibia|     Gerhard Erasmus|    1|     0|   8|      0|      8|  1|  1|  0|    0|      0|T20I # 1823|      0|          6|\n|Namibia Vs Sri Lanka|    Namibia|         David Wiese|    4|     0|  16|      2|      4| 13|  1|  0|    0|      0|T20I # 1823|      0|         24|\n|Namibia Vs Sri Lanka|    Namibia|     Bernard Scholtz|    4|     0|  18|      2|    4.5| 10|  1|  0|    0|      0|T20I # 1823|      0|         24|\n|Namibia Vs Sri Lanka|    Namibia|        Ben Shikongo|    3|     1|  22|      2|   7.33|  6|  3|  0|    0|      0|T20I # 1823|      0|         18|\n|Namibia Vs Sri Lanka|    Namibia|             JJ Smit|    3|     0|  16|      1|   5.33|  7|  0|  0|    1|      0|T20I # 1823|      0|         18|\n|Namibia Vs Sri Lanka|    Namibia|        Jan Frylinck|    4|     0|  26|      2|    6.5| 10|  0|  2|    1|      0|T20I # 1823|      0|         24|\n|U.A.E. Vs Netherl...|Netherlands|       Fred Klaassen|    4|     0|  13|      2|   3.25| 18|  0|  0|    3|      0|T20I # 1825|      0|         24|\n|U.A.E. Vs Netherl...|Netherlands|         Tim Pringle|    4|     0|  13|      1|   3.25| 11|  0|  0|    0|      0|T20I # 1825|      0|         24|\n|U.A.E. Vs Netherl...|Netherlands|      Logan van Beek|    2|     0|  19|      0|    9.5|  5|  0|  2|    1|      0|T20I # 1825|      0|         12|\n|U.A.E. Vs Netherl...|Netherlands|        Bas de Leede|    3|     0|  19|      3|   6.33|  9|  2|  0|    2|      0|T20I # 1825|      0|         18|\n|U.A.E. Vs Netherl...|Netherlands|   Paul van Meekeren|    4|     0|  21|      0|   5.25| 11|  1|  0|    0|      0|T20I # 1825|      0|         24|\n|U.A.E. Vs Netherl...|Netherlands|Roelof van der Merwe|    3|     0|  19|      1|   6.33|  7|  0|  1|    0|      0|T20I # 1825|      0|         18|\n|U.A.E. Vs Netherl...|     U.A.E.|     Junaid Siddique|    4|     0|  24|      3|      6| 10|  2|  0|    1|      0|T20I # 1825|      0|         24|\n|U.A.E. Vs Netherl...|     U.A.E.|        Basil Hameed|    1|     0|   7|      1|      7|  4|  0|  1|    0|      0|T20I # 1825|      0|          6|\n|U.A.E. Vs Netherl...|     U.A.E.|    Aayan Afzal Khan|    3|     0|  15|      1|      5|  8|  1|  0|    0|      0|T20I # 1825|      0|         18|\n+--------------------+-----------+--------------------+-----+------+----+-------+-------+---+---+---+-----+-------+-----------+-------+-----------+\nonly showing top 20 rows\n\n"
     ]
    }
   ],
   "source": [
    "bowling = spark.read.format(\"csv\").option(\"inferscheme\",True).option(\"header\",True).option(\"sep\",\",\").load('s3://t20worldcup/fact_bowling/fact_bowling_summary.csv')\n",
    "bowling.show()"
   ]
  },
  {
   "cell_type": "code",
   "execution_count": 0,
   "metadata": {
    "application/vnd.databricks.v1+cell": {
     "cellMetadata": {
      "byteLimit": 2048000,
      "rowLimit": 10000
     },
     "inputWidgets": {},
     "nuid": "cb9f8bd3-00ff-4e3a-9d2e-e5019aa3ad88",
     "showTitle": false,
     "title": ""
    }
   },
   "outputs": [
    {
     "output_type": "stream",
     "name": "stdout",
     "output_type": "stream",
     "text": [
      "+--------------------+-------------+------------+-------------+-------+-------------------+---------------+--------------+----------+\n|          bowlerName|Total_wickets|balls_Bowled|Runs_Conceded|economy|Bowling_Strike_Rate|Bowling_Average|Innings_Bowled|bowlingper|\n+--------------------+-------------+------------+-------------+-------+-------------------+---------------+--------------+----------+\n|Wanindu Hasaranga...|         15.0|       186.0|        199.0|    6.0|               12.0|           13.0|             8|      40.0|\n|          Sam Curran|         13.0|       136.0|        148.0|    7.0|               10.0|           11.0|             6|      49.0|\n+--------------------+-------------+------------+-------------+-------+-------------------+---------------+--------------+----------+\nonly showing top 2 rows\n\n"
     ]
    }
   ],
   "source": [
    "Bowler = bowling.groupBy(\"bowlerName\").agg(\n",
    "    sum(\"wickets\").alias(\"Total_wickets\"),\n",
    "    sum(\"bowlsbowled\").alias(\"balls_Bowled\"),\n",
    "    sum(\"runs\").alias(\"Runs_Conceded\"),\n",
    "    round(col(\"Runs_Conceded\") / (col(\"balls_Bowled\") / 6)).alias(\"economy\"),\n",
    "    round(col(\"balls_Bowled\") / col(\"Total_wickets\")).alias(\"Bowling_Strike_Rate\"),\n",
    "    round(col(\"Runs_Conceded\") / col(\"Total_wickets\")).alias(\"Bowling_Average\"),\n",
    "    (count(\"match_id\")).alias(\"Innings_Bowled\"),\n",
    "    round(sum(\"0s\") / sum(\"bowlsbowled\")* 100).alias(\"bowlingper\")\n",
    ").orderBy(col(\"Total_wickets\").desc())\n",
    "\n",
    "Bowler.show(2)"
   ]
  },
  {
   "cell_type": "code",
   "execution_count": 0,
   "metadata": {
    "application/vnd.databricks.v1+cell": {
     "cellMetadata": {
      "byteLimit": 2048000,
      "rowLimit": 10000
     },
     "inputWidgets": {},
     "nuid": "74e823f6-94b0-4c31-81ad-bee05514b06b",
     "showTitle": false,
     "title": ""
    }
   },
   "outputs": [
    {
     "output_type": "stream",
     "name": "stdout",
     "output_type": "stream",
     "text": [
      "+--------------+----------+---------+--------------+-----------+----------+-----------------------+---------------+---------------+----------+\n|   batsmanName|battingPos|Total_run|Innings_Batted|Total_balls|StrikeRate|total_innings_Dismissed|Avg_balls_Faced|Batting_Average|battingper|\n+--------------+----------+---------+--------------+-----------+----------+-----------------------+---------------+---------------+----------+\n|Jos Buttler(c)|         1|    225.0|             6|      156.0|     144.0|                      5|           26.0|           45.0|      61.0|\n|    Alex Hales|         2|    212.0|             6|      144.0|     147.0|                      5|           24.0|           42.0|      64.0|\n| Rilee Rossouw|         3|    141.0|             4|       83.0|     170.0|                      4|           21.0|           35.0|      64.0|\n+--------------+----------+---------+--------------+-----------+----------+-----------------------+---------------+---------------+----------+\n\n"
     ]
    }
   ],
   "source": [
    "top_order = openers.filter(\n",
    "    (openers[\"Batting_Average\"] > 30)\n",
    "    & (openers[\"StrikeRate\"] > 140)\n",
    "    & (openers[\"Innings_Batted\"] > 3)\n",
    "    & (openers[\"battingper\"] > 50)\n",
    "    & (openers[\"battingPos\"] < 4)\n",
    ")\n",
    "\n",
    "# Show the resulting DataFrame\n",
    "top_order.show()"
   ]
  },
  {
   "cell_type": "code",
   "execution_count": 0,
   "metadata": {
    "application/vnd.databricks.v1+cell": {
     "cellMetadata": {
      "byteLimit": 2048000,
      "rowLimit": 10000
     },
     "inputWidgets": {},
     "nuid": "108bb86c-46c6-4fa2-baea-0e6ca505ff29",
     "showTitle": false,
     "title": ""
    }
   },
   "outputs": [
    {
     "output_type": "stream",
     "name": "stdout",
     "output_type": "stream",
     "text": [
      "+----------------+----------+---------+--------------+-----------+----------+-----------------------+---------------+---------------+----------+\n|     batsmanName|battingPos|Total_run|Innings_Batted|Total_balls|StrikeRate|total_innings_Dismissed|Avg_balls_Faced|Batting_Average|battingper|\n+----------------+----------+---------+--------------+-----------+----------+-----------------------+---------------+---------------+----------+\n|     Virat Kohli|         3|    296.0|             6|      217.0|     136.0|                      3|           36.0|           99.0|      50.0|\n|Suryakumar Yadav|         4|    239.0|             6|      126.0|     190.0|                      4|           21.0|           60.0|      66.0|\n+----------------+----------+---------+--------------+-----------+----------+-----------------------+---------------+---------------+----------+\n\n"
     ]
    }
   ],
   "source": [
    "middle_order = openers.filter(\n",
    "    (openers[\"Batting_Average\"] > 40)\n",
    "    & (openers[\"StrikeRate\"] > 125)\n",
    "    & (openers[\"Innings_Batted\"] > 3)\n",
    "    & (openers[\"Avg_balls_Faced\"] > 20)\n",
    "    & (openers[\"battingPos\"] > 2)\n",
    ")\n",
    "middle_order.show()"
   ]
  },
  {
   "cell_type": "code",
   "execution_count": 0,
   "metadata": {
    "application/vnd.databricks.v1+cell": {
     "cellMetadata": {
      "byteLimit": 2048000,
      "rowLimit": 10000
     },
     "inputWidgets": {},
     "nuid": "9b083b11-3b55-4671-bc96-a7089367009a",
     "showTitle": false,
     "title": ""
    }
   },
   "outputs": [
    {
     "output_type": "stream",
     "name": "stdout",
     "output_type": "stream",
     "text": [
      "+--------------+---------------+----------+--------------+---------------+----------+--------------+\n|   batsmanName|Batting_Average|StrikeRate|Innings_Batted|Avg_balls_Faced|battingPos|Innings_Bowled|\n+--------------+---------------+----------+--------------+---------------+----------+--------------+\n|Marcus Stoinis|           42.0|     162.0|             4|           20.0|         5|             4|\n| Sikandar Raza|           31.0|     150.0|             7|           21.0|         5|             8|\n|Curtis Campher|           30.0|     170.0|             5|           14.0|         5|             4|\n+--------------+---------------+----------+--------------+---------------+----------+--------------+\n\n"
     ]
    }
   ],
   "source": [
    "lower_order = openers.filter(\n",
    "    (openers[\"Batting_Average\"] > 25) &\n",
    "    (openers[\"StrikeRate\"] > 130) &\n",
    "    (openers[\"Innings_Batted\"] > 3) &\n",
    "    (openers[\"Avg_balls_Faced\"] > 12) &\n",
    "    (openers[\"battingPos\"] > 4)\n",
    ").join(\n",
    "    Bowler.filter(Bowler[\"Innings_Bowled\"] > 1),\n",
    "    openers[\"batsmanName\"] == Bowler[\"bowlerName\"]\n",
    ").select(\n",
    "    openers[\"batsmanName\"],\n",
    "    openers[\"Batting_Average\"],\n",
    "    openers[\"StrikeRate\"],\n",
    "    openers[\"Innings_Batted\"],\n",
    "    openers[\"Avg_balls_Faced\"],\n",
    "    openers[\"battingPos\"],\n",
    "    Bowler[\"Innings_Bowled\"]\n",
    ")\n",
    "lower_order.show()"
   ]
  },
  {
   "cell_type": "code",
   "execution_count": 0,
   "metadata": {
    "application/vnd.databricks.v1+cell": {
     "cellMetadata": {
      "byteLimit": 2048000,
      "rowLimit": 10000
     },
     "inputWidgets": {},
     "nuid": "e2e71862-b5d8-4f2e-a3a6-50b928fbfa84",
     "showTitle": false,
     "title": ""
    }
   },
   "outputs": [
    {
     "output_type": "stream",
     "name": "stdout",
     "output_type": "stream",
     "text": [
      "+-----------------+---------------+----------+--------------+----------+--------------+-------+-------------------+\n|      batsmanName|Batting_Average|StrikeRate|Innings_Batted|battingPos|Innings_Bowled|economy|Bowling_Strike_Rate|\n+-----------------+---------------+----------+--------------+----------+--------------+-------+-------------------+\n|Paul van Meekeren|           23.0|     167.0|             3|        11|             8|    6.0|               17.0|\n| Mitchell Santner|           27.0|     169.0|             3|         7|             5|    6.0|               13.0|\n+-----------------+---------------+----------+--------------+----------+--------------+-------+-------------------+\n\n"
     ]
    }
   ],
   "source": [
    "Allrounder = openers.filter(\n",
    "    (openers[\"Batting_Average\"] > 15) &\n",
    "    (openers[\"StrikeRate\"] > 140) &\n",
    "    (openers[\"Innings_Batted\"] > 2) &\n",
    "    (openers[\"battingPos\"] > 4)\n",
    ").join(\n",
    "    Bowler.filter(\n",
    "        (Bowler[\"Innings_Bowled\"] > 2) &\n",
    "        (Bowler[\"economy\"] < 7) &\n",
    "        (Bowler[\"Bowling_Strike_Rate\"] < 20)\n",
    "    ),\n",
    "    openers[\"batsmanName\"] == Bowler[\"bowlerName\"]\n",
    ").select(\n",
    "    openers[\"batsmanName\"],\n",
    "    openers[\"Batting_Average\"],\n",
    "    openers[\"StrikeRate\"],\n",
    "    openers[\"Innings_Batted\"],\n",
    "    openers[\"battingPos\"],\n",
    "    Bowler[\"Innings_Bowled\"],\n",
    "    Bowler[\"economy\"],\n",
    "    Bowler[\"Bowling_Strike_Rate\"]\n",
    ")\n",
    "\n",
    "# Show the result\n",
    "Allrounder.show()"
   ]
  },
  {
   "cell_type": "code",
   "execution_count": 0,
   "metadata": {
    "application/vnd.databricks.v1+cell": {
     "cellMetadata": {
      "byteLimit": 2048000,
      "rowLimit": 10000
     },
     "inputWidgets": {},
     "nuid": "df42b1d7-0f23-4247-8cf2-f44f29826886",
     "showTitle": false,
     "title": ""
    }
   },
   "outputs": [
    {
     "output_type": "stream",
     "name": "stdout",
     "output_type": "stream",
     "text": [
      "+-------------------+--------------+-------+-------------------+---------------+--------------+----------+\n|         bowlerName|Innings_Bowled|economy|Bowling_Strike_Rate|Bowling_Average|  bowlingStyle|bowlingper|\n+-------------------+--------------+-------+-------------------+---------------+--------------+----------+\n|Shaheen Shah Afridi|             7|    6.0|               14.0|           14.0| Left arm Fast|      46.0|\n|      Anrich Nortje|             5|    5.0|               10.0|            9.0|Right arm Fast|      55.0|\n+-------------------+--------------+-------+-------------------+---------------+--------------+----------+\n\n"
     ]
    }
   ],
   "source": [
    "fast_bowlers = Bowler.filter(\n",
    "    (Bowler[\"Innings_Bowled\"] > 4) &\n",
    "    (Bowler[\"economy\"] < 7) &\n",
    "    (Bowler[\"Bowling_Strike_Rate\"] < 16) &\n",
    "    (Bowler[\"Bowling_Average\"] < 20) &\n",
    "    (Bowler[\"bowlingper\"] > 40)\n",
    ").join(\n",
    "    players.filter(players[\"bowlingStyle\"].like(\"%Fast%\")),\n",
    "    Bowler[\"bowlerName\"] == players[\"name\"]\n",
    ").select(\n",
    "    Bowler[\"bowlerName\"],\n",
    "    Bowler[\"Innings_Bowled\"],\n",
    "    Bowler[\"economy\"],\n",
    "    Bowler[\"Bowling_Strike_Rate\"],\n",
    "    Bowler[\"Bowling_Average\"],\n",
    "    players[\"bowlingStyle\"],\n",
    "    Bowler[\"bowlingper\"]\n",
    ")\n",
    "fast_bowlers.show()"
   ]
  },
  {
   "cell_type": "markdown",
   "metadata": {
    "application/vnd.databricks.v1+cell": {
     "cellMetadata": {
      "byteLimit": 2048000,
      "rowLimit": 10000
     },
     "inputWidgets": {},
     "nuid": "a562b567-76a1-4094-83fe-e4272b9bf1ed",
     "showTitle": false,
     "title": ""
    }
   },
   "source": [
    "# SQL Calculation\n"
   ]
  },
  {
   "cell_type": "code",
   "execution_count": 0,
   "metadata": {
    "application/vnd.databricks.v1+cell": {
     "cellMetadata": {
      "byteLimit": 2048000,
      "rowLimit": 10000
     },
     "inputWidgets": {},
     "nuid": "9902535d-ef82-4c0f-87ad-08c12b0f91d0",
     "showTitle": false,
     "title": ""
    }
   },
   "outputs": [],
   "source": [
    "openers.createOrReplaceTempView(\"openers\")\n",
    "Bowler.createOrReplaceTempView(\"Bowler\")\n",
    "players.createOrReplaceTempView(\"players\")\n"
   ]
  },
  {
   "cell_type": "code",
   "execution_count": 0,
   "metadata": {
    "application/vnd.databricks.v1+cell": {
     "cellMetadata": {
      "byteLimit": 2048000,
      "implicitDf": true,
      "rowLimit": 10000
     },
     "inputWidgets": {},
     "nuid": "3002f112-2ec1-43cc-a258-0b072b37bf81",
     "showTitle": false,
     "title": ""
    }
   },
   "outputs": [
    {
     "output_type": "display_data",
     "data": {
      "text/html": [
       "<style scoped>\n",
       "  .table-result-container {\n",
       "    max-height: 300px;\n",
       "    overflow: auto;\n",
       "  }\n",
       "  table, th, td {\n",
       "    border: 1px solid black;\n",
       "    border-collapse: collapse;\n",
       "  }\n",
       "  th, td {\n",
       "    padding: 5px;\n",
       "  }\n",
       "  th {\n",
       "    text-align: left;\n",
       "  }\n",
       "</style><div class='table-result-container'><table class='table-result'><thead style='background-color: white'><tr><th>batsmanName</th><th>Batting_Average</th><th>StrikeRate</th><th>Innings_Batted</th><th>battingper</th><th>battingPos</th></tr></thead><tbody><tr><td>Jos Buttler(c)</td><td>45.0</td><td>144.0</td><td>6</td><td>61.0</td><td>1</td></tr><tr><td>Alex Hales</td><td>42.0</td><td>147.0</td><td>6</td><td>64.0</td><td>2</td></tr><tr><td>Rilee Rossouw</td><td>35.0</td><td>170.0</td><td>4</td><td>64.0</td><td>3</td></tr></tbody></table></div>"
      ]
     },
     "metadata": {
      "application/vnd.databricks.v1+output": {
       "addedWidgets": {},
       "aggData": [],
       "aggError": "",
       "aggOverflow": false,
       "aggSchema": [],
       "aggSeriesLimitReached": false,
       "aggType": "",
       "arguments": {},
       "columnCustomDisplayInfos": {},
       "data": [
        [
         "Jos Buttler(c)",
         45.0,
         144.0,
         6,
         61.0,
         "1"
        ],
        [
         "Alex Hales",
         42.0,
         147.0,
         6,
         64.0,
         "2"
        ],
        [
         "Rilee Rossouw",
         35.0,
         170.0,
         4,
         64.0,
         "3"
        ]
       ],
       "datasetInfos": [],
       "dbfsResultPath": null,
       "isJsonSchema": true,
       "metadata": {},
       "overflow": false,
       "plotOptions": {
        "customPlotOptions": {},
        "displayType": "table",
        "pivotAggregation": null,
        "pivotColumns": null,
        "xColumns": null,
        "yColumns": null
       },
       "removedWidgets": [],
       "schema": [
        {
         "metadata": "{}",
         "name": "batsmanName",
         "type": "\"string\""
        },
        {
         "metadata": "{}",
         "name": "Batting_Average",
         "type": "\"double\""
        },
        {
         "metadata": "{}",
         "name": "StrikeRate",
         "type": "\"double\""
        },
        {
         "metadata": "{}",
         "name": "Innings_Batted",
         "type": "\"long\""
        },
        {
         "metadata": "{}",
         "name": "battingper",
         "type": "\"double\""
        },
        {
         "metadata": "{}",
         "name": "battingPos",
         "type": "\"string\""
        }
       ],
       "type": "table"
      }
     },
     "output_type": "display_data"
    }
   ],
   "source": [
    "%sql\n",
    "select batsmanName,Batting_Average,StrikeRate,Innings_Batted, battingper , battingPos from openers\n",
    "where Batting_Average > 30 and StrikeRate > 140 and Innings_Batted >3 and battingper>50 and battingPos< 4"
   ]
  },
  {
   "cell_type": "code",
   "execution_count": 0,
   "metadata": {
    "application/vnd.databricks.v1+cell": {
     "cellMetadata": {
      "byteLimit": 2048000,
      "implicitDf": true,
      "rowLimit": 10000
     },
     "inputWidgets": {},
     "nuid": "45d1a979-13e2-4826-9892-3155de551865",
     "showTitle": false,
     "title": ""
    }
   },
   "outputs": [
    {
     "output_type": "display_data",
     "data": {
      "text/html": [
       "<style scoped>\n",
       "  .table-result-container {\n",
       "    max-height: 300px;\n",
       "    overflow: auto;\n",
       "  }\n",
       "  table, th, td {\n",
       "    border: 1px solid black;\n",
       "    border-collapse: collapse;\n",
       "  }\n",
       "  th, td {\n",
       "    padding: 5px;\n",
       "  }\n",
       "  th {\n",
       "    text-align: left;\n",
       "  }\n",
       "</style><div class='table-result-container'><table class='table-result'><thead style='background-color: white'><tr><th>batsmanName</th><th>Batting_Average</th><th>StrikeRate</th><th>Innings_Batted</th><th>Avg_balls_Faced</th><th>battingPos</th></tr></thead><tbody><tr><td>Virat Kohli</td><td>99.0</td><td>136.0</td><td>6</td><td>36.0</td><td>3</td></tr><tr><td>Suryakumar Yadav</td><td>60.0</td><td>190.0</td><td>6</td><td>21.0</td><td>4</td></tr></tbody></table></div>"
      ]
     },
     "metadata": {
      "application/vnd.databricks.v1+output": {
       "addedWidgets": {},
       "aggData": [],
       "aggError": "",
       "aggOverflow": false,
       "aggSchema": [],
       "aggSeriesLimitReached": false,
       "aggType": "",
       "arguments": {},
       "columnCustomDisplayInfos": {},
       "data": [
        [
         "Virat Kohli",
         99.0,
         136.0,
         6,
         36.0,
         "3"
        ],
        [
         "Suryakumar Yadav",
         60.0,
         190.0,
         6,
         21.0,
         "4"
        ]
       ],
       "datasetInfos": [],
       "dbfsResultPath": null,
       "isJsonSchema": true,
       "metadata": {},
       "overflow": false,
       "plotOptions": {
        "customPlotOptions": {},
        "displayType": "table",
        "pivotAggregation": null,
        "pivotColumns": null,
        "xColumns": null,
        "yColumns": null
       },
       "removedWidgets": [],
       "schema": [
        {
         "metadata": "{}",
         "name": "batsmanName",
         "type": "\"string\""
        },
        {
         "metadata": "{}",
         "name": "Batting_Average",
         "type": "\"double\""
        },
        {
         "metadata": "{}",
         "name": "StrikeRate",
         "type": "\"double\""
        },
        {
         "metadata": "{}",
         "name": "Innings_Batted",
         "type": "\"long\""
        },
        {
         "metadata": "{}",
         "name": "Avg_balls_Faced",
         "type": "\"double\""
        },
        {
         "metadata": "{}",
         "name": "battingPos",
         "type": "\"string\""
        }
       ],
       "type": "table"
      }
     },
     "output_type": "display_data"
    }
   ],
   "source": [
    "%sql\n",
    "select batsmanName,Batting_Average,StrikeRate,Innings_Batted, Avg_balls_Faced , battingPos from openers\n",
    "where Batting_Average > 40 and StrikeRate > 125 and Innings_Batted >3 and Avg_balls_Faced > 20 and battingPos > 2"
   ]
  },
  {
   "cell_type": "code",
   "execution_count": 0,
   "metadata": {
    "application/vnd.databricks.v1+cell": {
     "cellMetadata": {
      "byteLimit": 2048000,
      "implicitDf": true,
      "rowLimit": 10000
     },
     "inputWidgets": {},
     "nuid": "4a319ca8-6273-4b24-883f-fe3cefa1b8fb",
     "showTitle": false,
     "title": ""
    }
   },
   "outputs": [
    {
     "output_type": "display_data",
     "data": {
      "text/html": [
       "<style scoped>\n",
       "  .table-result-container {\n",
       "    max-height: 300px;\n",
       "    overflow: auto;\n",
       "  }\n",
       "  table, th, td {\n",
       "    border: 1px solid black;\n",
       "    border-collapse: collapse;\n",
       "  }\n",
       "  th, td {\n",
       "    padding: 5px;\n",
       "  }\n",
       "  th {\n",
       "    text-align: left;\n",
       "  }\n",
       "</style><div class='table-result-container'><table class='table-result'><thead style='background-color: white'><tr><th>batsmanName</th><th>Batting_Average</th><th>StrikeRate</th><th>Innings_Batted</th><th>Avg_balls_Faced</th><th>battingPos</th><th>Innings_Bowled</th></tr></thead><tbody><tr><td>Marcus Stoinis</td><td>42.0</td><td>162.0</td><td>4</td><td>20.0</td><td>5</td><td>4</td></tr><tr><td>Sikandar Raza</td><td>31.0</td><td>150.0</td><td>7</td><td>21.0</td><td>5</td><td>8</td></tr><tr><td>Curtis Campher</td><td>30.0</td><td>170.0</td><td>5</td><td>14.0</td><td>5</td><td>4</td></tr></tbody></table></div>"
      ]
     },
     "metadata": {
      "application/vnd.databricks.v1+output": {
       "addedWidgets": {},
       "aggData": [],
       "aggError": "",
       "aggOverflow": false,
       "aggSchema": [],
       "aggSeriesLimitReached": false,
       "aggType": "",
       "arguments": {},
       "columnCustomDisplayInfos": {},
       "data": [
        [
         "Marcus Stoinis",
         42.0,
         162.0,
         4,
         20.0,
         "5",
         4
        ],
        [
         "Sikandar Raza",
         31.0,
         150.0,
         7,
         21.0,
         "5",
         8
        ],
        [
         "Curtis Campher",
         30.0,
         170.0,
         5,
         14.0,
         "5",
         4
        ]
       ],
       "datasetInfos": [],
       "dbfsResultPath": null,
       "isJsonSchema": true,
       "metadata": {},
       "overflow": false,
       "plotOptions": {
        "customPlotOptions": {},
        "displayType": "table",
        "pivotAggregation": null,
        "pivotColumns": null,
        "xColumns": null,
        "yColumns": null
       },
       "removedWidgets": [],
       "schema": [
        {
         "metadata": "{}",
         "name": "batsmanName",
         "type": "\"string\""
        },
        {
         "metadata": "{}",
         "name": "Batting_Average",
         "type": "\"double\""
        },
        {
         "metadata": "{}",
         "name": "StrikeRate",
         "type": "\"double\""
        },
        {
         "metadata": "{}",
         "name": "Innings_Batted",
         "type": "\"long\""
        },
        {
         "metadata": "{}",
         "name": "Avg_balls_Faced",
         "type": "\"double\""
        },
        {
         "metadata": "{}",
         "name": "battingPos",
         "type": "\"string\""
        },
        {
         "metadata": "{}",
         "name": "Innings_Bowled",
         "type": "\"long\""
        }
       ],
       "type": "table"
      }
     },
     "output_type": "display_data"
    }
   ],
   "source": [
    "%sql\n",
    "select a.batsmanName,a.Batting_Average,a.StrikeRate,a.Innings_Batted, a.Avg_balls_Faced , a.battingPos, b.Innings_Bowled from openers as a\n",
    "inner join Bowler as b on a.batsmanName = b.bowlerName\n",
    "where a.Batting_Average > 25 and a.StrikeRate > 130 and a.Innings_Batted >3 and a.Avg_balls_Faced > 12 and a.battingPos > 4 and b.Innings_Bowled > 1"
   ]
  },
  {
   "cell_type": "code",
   "execution_count": 0,
   "metadata": {
    "application/vnd.databricks.v1+cell": {
     "cellMetadata": {
      "byteLimit": 2048000,
      "implicitDf": true,
      "rowLimit": 10000
     },
     "inputWidgets": {},
     "nuid": "53ce1b5d-6166-4a5b-bd34-53097807b750",
     "showTitle": false,
     "title": ""
    }
   },
   "outputs": [
    {
     "output_type": "display_data",
     "data": {
      "text/html": [
       "<style scoped>\n",
       "  .table-result-container {\n",
       "    max-height: 300px;\n",
       "    overflow: auto;\n",
       "  }\n",
       "  table, th, td {\n",
       "    border: 1px solid black;\n",
       "    border-collapse: collapse;\n",
       "  }\n",
       "  th, td {\n",
       "    padding: 5px;\n",
       "  }\n",
       "  th {\n",
       "    text-align: left;\n",
       "  }\n",
       "</style><div class='table-result-container'><table class='table-result'><thead style='background-color: white'><tr><th>batsmanName</th><th>Batting_Average</th><th>StrikeRate</th><th>Innings_Batted</th><th>battingPos</th><th>Innings_Bowled</th><th>economy</th><th>Bowling_Strike_Rate</th></tr></thead><tbody><tr><td>Mitchell Santner</td><td>27.0</td><td>169.0</td><td>3</td><td>7</td><td>5</td><td>6.0</td><td>13.0</td></tr><tr><td>Paul van Meekeren</td><td>23.0</td><td>167.0</td><td>3</td><td>11</td><td>8</td><td>6.0</td><td>17.0</td></tr></tbody></table></div>"
      ]
     },
     "metadata": {
      "application/vnd.databricks.v1+output": {
       "addedWidgets": {},
       "aggData": [],
       "aggError": "",
       "aggOverflow": false,
       "aggSchema": [],
       "aggSeriesLimitReached": false,
       "aggType": "",
       "arguments": {},
       "columnCustomDisplayInfos": {},
       "data": [
        [
         "Mitchell Santner",
         27.0,
         169.0,
         3,
         "7",
         5,
         6.0,
         13.0
        ],
        [
         "Paul van Meekeren",
         23.0,
         167.0,
         3,
         "11",
         8,
         6.0,
         17.0
        ]
       ],
       "datasetInfos": [],
       "dbfsResultPath": null,
       "isJsonSchema": true,
       "metadata": {},
       "overflow": false,
       "plotOptions": {
        "customPlotOptions": {},
        "displayType": "table",
        "pivotAggregation": null,
        "pivotColumns": null,
        "xColumns": null,
        "yColumns": null
       },
       "removedWidgets": [],
       "schema": [
        {
         "metadata": "{}",
         "name": "batsmanName",
         "type": "\"string\""
        },
        {
         "metadata": "{}",
         "name": "Batting_Average",
         "type": "\"double\""
        },
        {
         "metadata": "{}",
         "name": "StrikeRate",
         "type": "\"double\""
        },
        {
         "metadata": "{}",
         "name": "Innings_Batted",
         "type": "\"long\""
        },
        {
         "metadata": "{}",
         "name": "battingPos",
         "type": "\"string\""
        },
        {
         "metadata": "{}",
         "name": "Innings_Bowled",
         "type": "\"long\""
        },
        {
         "metadata": "{}",
         "name": "economy",
         "type": "\"double\""
        },
        {
         "metadata": "{}",
         "name": "Bowling_Strike_Rate",
         "type": "\"double\""
        }
       ],
       "type": "table"
      }
     },
     "output_type": "display_data"
    }
   ],
   "source": [
    "%sql\n",
    "select a.batsmanName,a.Batting_Average,a.StrikeRate,a.Innings_Batted, a.battingPos, b.Innings_Bowled ,b.economy,b.Bowling_Strike_Rate from openers as a\n",
    "inner join Bowler as b on a.batsmanName = b.bowlerName\n",
    "where a.Batting_Average > 15 and a.StrikeRate > 140 and a.Innings_Batted >2  and a.battingPos > 4 and b.Innings_Bowled > 2 and b.economy< 7 and b.Bowling_Strike_Rate <20"
   ]
  },
  {
   "cell_type": "code",
   "execution_count": 0,
   "metadata": {
    "application/vnd.databricks.v1+cell": {
     "cellMetadata": {
      "byteLimit": 2048000,
      "implicitDf": true,
      "rowLimit": 10000
     },
     "inputWidgets": {},
     "nuid": "b395590c-ad83-4627-aab3-91a5aa2a6552",
     "showTitle": false,
     "title": ""
    }
   },
   "outputs": [
    {
     "output_type": "display_data",
     "data": {
      "text/html": [
       "<style scoped>\n",
       "  .table-result-container {\n",
       "    max-height: 300px;\n",
       "    overflow: auto;\n",
       "  }\n",
       "  table, th, td {\n",
       "    border: 1px solid black;\n",
       "    border-collapse: collapse;\n",
       "  }\n",
       "  th, td {\n",
       "    padding: 5px;\n",
       "  }\n",
       "  th {\n",
       "    text-align: left;\n",
       "  }\n",
       "</style><div class='table-result-container'><table class='table-result'><thead style='background-color: white'><tr><th>bowlerName</th><th>Innings_Bowled</th><th>economy</th><th>Bowling_Strike_Rate</th><th>Bowling_Average</th><th>bowlingStyle</th><th>bowlingper</th></tr></thead><tbody><tr><td>Shaheen Shah Afridi</td><td>7</td><td>6.0</td><td>14.0</td><td>14.0</td><td>Left arm Fast</td><td>46.0</td></tr><tr><td>Anrich Nortje</td><td>5</td><td>5.0</td><td>10.0</td><td>9.0</td><td>Right arm Fast</td><td>55.0</td></tr></tbody></table></div>"
      ]
     },
     "metadata": {
      "application/vnd.databricks.v1+output": {
       "addedWidgets": {},
       "aggData": [],
       "aggError": "",
       "aggOverflow": false,
       "aggSchema": [],
       "aggSeriesLimitReached": false,
       "aggType": "",
       "arguments": {},
       "columnCustomDisplayInfos": {},
       "data": [
        [
         "Shaheen Shah Afridi",
         7,
         6.0,
         14.0,
         14.0,
         "Left arm Fast",
         46.0
        ],
        [
         "Anrich Nortje",
         5,
         5.0,
         10.0,
         9.0,
         "Right arm Fast",
         55.0
        ]
       ],
       "datasetInfos": [],
       "dbfsResultPath": null,
       "isJsonSchema": true,
       "metadata": {},
       "overflow": false,
       "plotOptions": {
        "customPlotOptions": {},
        "displayType": "table",
        "pivotAggregation": null,
        "pivotColumns": null,
        "xColumns": null,
        "yColumns": null
       },
       "removedWidgets": [],
       "schema": [
        {
         "metadata": "{}",
         "name": "bowlerName",
         "type": "\"string\""
        },
        {
         "metadata": "{}",
         "name": "Innings_Bowled",
         "type": "\"long\""
        },
        {
         "metadata": "{}",
         "name": "economy",
         "type": "\"double\""
        },
        {
         "metadata": "{}",
         "name": "Bowling_Strike_Rate",
         "type": "\"double\""
        },
        {
         "metadata": "{}",
         "name": "Bowling_Average",
         "type": "\"double\""
        },
        {
         "metadata": "{}",
         "name": "bowlingStyle",
         "type": "\"string\""
        },
        {
         "metadata": "{}",
         "name": "bowlingper",
         "type": "\"double\""
        }
       ],
       "type": "table"
      }
     },
     "output_type": "display_data"
    }
   ],
   "source": [
    "%sql\n",
    "select a.bowlerName ,a.Innings_Bowled ,a.economy, a.Bowling_Strike_Rate, a.Bowling_Average, b.bowlingStyle, a.bowlingper \n",
    "from Bowler as a \n",
    "inner join players as b on a.bowlerName = b.name\n",
    "where a.Innings_Bowled > 4 and a.economy < 7 and a.Bowling_Strike_Rate < 16 and a.Bowling_Average < 20 and b.bowlingStyle LIKE '%Fast%'\n",
    " and a.bowlingper > 40\n",
    "\n",
    "\n",
    "\n"
   ]
  },
  {
   "cell_type": "code",
   "execution_count": 0,
   "metadata": {
    "application/vnd.databricks.v1+cell": {
     "cellMetadata": {
      "byteLimit": 2048000,
      "rowLimit": 10000
     },
     "inputWidgets": {},
     "nuid": "c4f11d77-aeaa-49ea-9c7f-48b3e435def5",
     "showTitle": false,
     "title": ""
    }
   },
   "outputs": [],
   "source": [
    "\n",
    "top_order_col = top_order.select(top_order.columns[0])\n",
    "middle_order_col = middle_order.select(middle_order.columns[0])\n",
    "lower_order_col = lower_order.select(lower_order.columns[0])\n",
    "Allrounder_col = Allrounder.select(Allrounder.columns[0])\n",
    "fast_bowlers_col = fast_bowlers.select(fast_bowlers.columns[0])"
   ]
  },
  {
   "cell_type": "code",
   "execution_count": 0,
   "metadata": {
    "application/vnd.databricks.v1+cell": {
     "cellMetadata": {
      "byteLimit": 2048000,
      "rowLimit": 10000
     },
     "inputWidgets": {},
     "nuid": "25559262-88ad-450e-8a30-6b83a6cfeb3b",
     "showTitle": false,
     "title": ""
    }
   },
   "outputs": [],
   "source": [
    "# Union all the selected columns\n",
    "merged_df = (top_order_col).union(middle_order_col).union(lower_order_col).union(Allrounder_col).union(fast_bowlers_col)"
   ]
  },
  {
   "cell_type": "code",
   "execution_count": 0,
   "metadata": {
    "application/vnd.databricks.v1+cell": {
     "cellMetadata": {
      "byteLimit": 2048000,
      "rowLimit": 10000
     },
     "inputWidgets": {},
     "nuid": "c5897839-2a03-4d58-8c20-30efa5e3879f",
     "showTitle": false,
     "title": ""
    }
   },
   "outputs": [
    {
     "output_type": "stream",
     "name": "stdout",
     "output_type": "stream",
     "text": [
      "+-------------------+\n|        batsmanName|\n+-------------------+\n|     Jos Buttler(c)|\n|         Alex Hales|\n|      Rilee Rossouw|\n|        Virat Kohli|\n|   Suryakumar Yadav|\n|     Marcus Stoinis|\n|      Sikandar Raza|\n|     Curtis Campher|\n|   Mitchell Santner|\n|  Paul van Meekeren|\n|Shaheen Shah Afridi|\n|      Anrich Nortje|\n+-------------------+\n\n"
     ]
    }
   ],
   "source": [
    "merged_df.show()\n"
   ]
  },
  {
   "cell_type": "code",
   "execution_count": 0,
   "metadata": {
    "application/vnd.databricks.v1+cell": {
     "cellMetadata": {},
     "inputWidgets": {},
     "nuid": "096564ae-181b-453f-8674-48a5dab2aa54",
     "showTitle": false,
     "title": ""
    }
   },
   "outputs": [],
   "source": []
  }
 ],
 "metadata": {
  "application/vnd.databricks.v1+notebook": {
   "dashboards": [],
   "environmentMetadata": null,
   "language": "python",
   "notebookMetadata": {
    "mostRecentlyExecutedCommandWithImplicitDF": {
     "commandId": 2816751501160311,
     "dataframes": [
      "_sqldf"
     ]
    },
    "pythonIndentUnit": 4
   },
   "notebookName": "T20wc2022",
   "widgets": {}
  }
 },
 "nbformat": 4,
 "nbformat_minor": 0
}
